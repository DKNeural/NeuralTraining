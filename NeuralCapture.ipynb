{
  "cells": [
    {
      "attachments": {},
      "cell_type": "markdown",
      "metadata": {
        "id": "ChdrlGCt7qhm"
      },
      "source": [
        "\n",
        "# DKNeural 2 Knob'lu Eğitim\n",
        "-------------\n",
        "\n",
        "#####  **Step 1**. Yukarı menüden \"Runtime\" -> \"Change Runtime Type\" -> \"GPU\" seç. Ücretsiz Colab versiyonunda sınırlı saat veriyor, günlük sıfırlanıyor.\n",
        "\n",
        "#####  **Step 2**. 25 tane out\"x\".wav dosyası yükle, yüklemelerin tamamlnamasını bekle.\n",
        "       \"out1.wav\", \"out2.wav\", \"out3.wav\", \"out4.wav\", \"out5.wav\", ... , \"out25.wav\n",
        "\n",
        "##### **Step 3**. ORTAMI KUR sekmesini \"play\" tuşuna basarak çalıştır. Yükleme tamamlanmasını bekle.\n",
        "\n",
        "##### **Step 4**. EĞİT sekmesini \"play\" tuşuna basarak çalıştır. Eğitim başlayacak satır satır ilerleyecek, uzun sürebilir.\n",
        "        \n",
        "##### **Step 5**. JSON model dosyasını üretmek için burayı çalıştır. Daha sonra üretilen json dosyasını indir, isimlendir.\n",
        "\n",
        "##### **Step 6**. Karşılaştırma grafiğini görmek için çalıştır. (Zorunlu değil)\n",
        "\n",
        "------------\n",
        "**Note**: Recommended to \"Disconnect and delete runtime\" from the \"Runtime\" menu and \"Reconnect\" to reset the environment\n",
        "when training additional models. Make sure to download your trained model before disconnecting.\n",
        "\n",
        "**Note**: To continue to refine the model, you may run the same Step 4 (a,b,c) after changing the \"-eps\" field to the number of epochs to continue training. For example, in Step 4c., change \"-eps 300\" to \"-eps 100\" to run an additional 100 epochs. Then re-run Step 5 to generate a new Proteus compatible model. \n"
      ]
    },
    {
      "attachments": {},
      "cell_type": "markdown",
      "metadata": {
        "id": "T0YQxFKX8toq"
      },
      "source": [
        "### **STEP 3** : ORTAMI KUR\n",
        "###### Ortamı kurmak için burayı çalıştır. Altta mouse'la üstüne gelince solda Play tuşu çıkacak."
      ]
    },
    {
      "cell_type": "code",
      "execution_count": null,
      "metadata": {
        "id": "pzrdkYdTd3cX"
      },
      "outputs": [],
      "source": [
        "!git clone https://github.com/DKNeural/NeuralTraining.git\n",
        "%cd NeuralTraining/\n",
        "!git checkout master\n",
        "!git submodule update --init --recursive"
      ]
    },
    {
      "attachments": {},
      "cell_type": "markdown",
      "metadata": {
        "id": "5Q7lBR879LQr"
      },
      "source": [
        "### **STEP 4: EĞİT**.  Eğitim uzun sürecek, bitene kadar beklenmeli."
      ]
    },
    {
      "cell_type": "code",
      "execution_count": null,
      "metadata": {
        "id": "8MYDHLNWt64F"
      },
      "outputs": [],
      "source": [
        "model=\"knob2\"\n",
        "!python prep_wav_clean_train.py $model -p \"./Configs/Parameterization-Config-Knob2.json\" --normalize true\n",
        "!python prep_wav_clean_val.py $model -p \"./Configs/Parameterization-Config-Knob2.json\" --normalize true\n",
        "!python prep_wav_clean_test.py $model -p \"./Configs/Parameterization-Config-Knob2.json\" --normalize true\n",
        "!python prep_wav_target_train.py $model -p \"./Configs/Parameterization-Config-Knob2.json\" --normalize true\n",
        "!python prep_wav_target_val.py $model -p \"./Configs/Parameterization-Config-Knob2.json\" --normalize true\n",
        "!python prep_wav_target_test.py $model -p \"./Configs/Parameterization-Config-Knob2.json\" --normalize true\n",
        "!python dist_model_recnet.py -l \"RNN3-\"$model -is 3 -eps 300"
      ]
    },
    {
      "attachments": {},
      "cell_type": "markdown",
      "metadata": {
        "id": "ijHoiPKW9cnm"
      },
      "source": [
        "### **STEP 5: JSON ÜRET**. Eğitim bittikten sonra Json dosyası (model dosyası) oluşturmak için burayı çalıştır. \n",
        "\"newKnob2Model.json\" dosyası üretilecek.\n"
      ]
    },
    {
      "cell_type": "code",
      "execution_count": null,
      "metadata": {
        "id": "j4ypBZrXi5jM"
      },
      "outputs": [],
      "source": [
        "%cp \"Results/\"$model\"-RNN3-\"$model\"/model_best.json\" ../newKnob2Model.json"
      ]
    },
    {
      "attachments": {},
      "cell_type": "markdown",
      "metadata": {
        "id": "ZA_LO7ZV9ovd"
      },
      "source": [
        "### **STEP 6**. (Zorunlu Değil) Karşılaştırma Grafiği"
      ]
    },
    {
      "cell_type": "code",
      "execution_count": null,
      "metadata": {
        "id": "Z2u4IKm_d3Oh"
      },
      "outputs": [],
      "source": [
        "!python plot.py $model\n",
        "%cp \"Results/\"$model\"-RNN3-\"$model\"/\"$model\"_Detail\"* ../"
      ]
    }
  ],
  "metadata": {
    "accelerator": "GPU",
    "colab": {
      "collapsed_sections": [],
      "name": "Welcome To Colaboratory",
      "provenance": []
    },
    "kernelspec": {
      "display_name": "Python 3",
      "language": "python",
      "name": "python3"
    },
    "language_info": {
      "name": "python",
      "version": "3.9.2"
    },
    "vscode": {
      "interpreter": {
        "hash": "81794d4967e6c3204c66dcd87b604927b115b27c00565d3d43f05ba2f3a2cb0d"
      }
    }
  },
  "nbformat": 4,
  "nbformat_minor": 0
}
